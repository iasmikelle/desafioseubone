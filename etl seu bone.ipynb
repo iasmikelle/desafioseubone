{
 "cells": [
  {
   "cell_type": "code",
   "execution_count": 69,
   "id": "31ee48f1-ea16-4396-a217-ad838c6e468e",
   "metadata": {},
   "outputs": [],
   "source": [
    "import pandas as pd"
   ]
  },
  {
   "cell_type": "code",
   "execution_count": 70,
   "id": "42983146-488f-4ac9-bcd9-a991598bdd7b",
   "metadata": {},
   "outputs": [],
   "source": [
    "import os"
   ]
  },
  {
   "cell_type": "code",
   "execution_count": 71,
   "id": "e81d67cf-4e0e-4412-ba62-dac753c89b8c",
   "metadata": {},
   "outputs": [],
   "source": [
    "os.makedirs('dados tratados', exist_ok=True)"
   ]
  },
  {
   "cell_type": "code",
   "execution_count": 72,
   "id": "23efc5c8-57a2-4add-ae33-52091dfdf0ed",
   "metadata": {},
   "outputs": [
    {
     "data": {
      "text/html": [
       "<div>\n",
       "<style scoped>\n",
       "    .dataframe tbody tr th:only-of-type {\n",
       "        vertical-align: middle;\n",
       "    }\n",
       "\n",
       "    .dataframe tbody tr th {\n",
       "        vertical-align: top;\n",
       "    }\n",
       "\n",
       "    .dataframe thead th {\n",
       "        text-align: right;\n",
       "    }\n",
       "</style>\n",
       "<table border=\"1\" class=\"dataframe\">\n",
       "  <thead>\n",
       "    <tr style=\"text-align: right;\">\n",
       "      <th></th>\n",
       "      <th>CO_ANO</th>\n",
       "      <th>CO_MES</th>\n",
       "      <th>CO_NCM</th>\n",
       "      <th>CO_UNID</th>\n",
       "      <th>CO_PAIS</th>\n",
       "      <th>SG_UF_NCM</th>\n",
       "      <th>CO_VIA</th>\n",
       "      <th>CO_URF</th>\n",
       "      <th>QT_ESTAT</th>\n",
       "      <th>KG_LIQUIDO</th>\n",
       "      <th>VL_FOB</th>\n",
       "    </tr>\n",
       "  </thead>\n",
       "  <tbody>\n",
       "    <tr>\n",
       "      <th>0</th>\n",
       "      <td>2020</td>\n",
       "      <td>1</td>\n",
       "      <td>39211900</td>\n",
       "      <td>10</td>\n",
       "      <td>244</td>\n",
       "      <td>SP</td>\n",
       "      <td>4</td>\n",
       "      <td>817600</td>\n",
       "      <td>1</td>\n",
       "      <td>1</td>\n",
       "      <td>2</td>\n",
       "    </tr>\n",
       "    <tr>\n",
       "      <th>1</th>\n",
       "      <td>2020</td>\n",
       "      <td>3</td>\n",
       "      <td>48183000</td>\n",
       "      <td>10</td>\n",
       "      <td>573</td>\n",
       "      <td>SC</td>\n",
       "      <td>1</td>\n",
       "      <td>917800</td>\n",
       "      <td>1</td>\n",
       "      <td>1</td>\n",
       "      <td>69</td>\n",
       "    </tr>\n",
       "    <tr>\n",
       "      <th>2</th>\n",
       "      <td>2020</td>\n",
       "      <td>1</td>\n",
       "      <td>85364100</td>\n",
       "      <td>11</td>\n",
       "      <td>756</td>\n",
       "      <td>SP</td>\n",
       "      <td>1</td>\n",
       "      <td>817800</td>\n",
       "      <td>341</td>\n",
       "      <td>12</td>\n",
       "      <td>1668</td>\n",
       "    </tr>\n",
       "    <tr>\n",
       "      <th>3</th>\n",
       "      <td>2020</td>\n",
       "      <td>7</td>\n",
       "      <td>69109000</td>\n",
       "      <td>11</td>\n",
       "      <td>586</td>\n",
       "      <td>SP</td>\n",
       "      <td>7</td>\n",
       "      <td>147800</td>\n",
       "      <td>13</td>\n",
       "      <td>8</td>\n",
       "      <td>686</td>\n",
       "    </tr>\n",
       "    <tr>\n",
       "      <th>4</th>\n",
       "      <td>2020</td>\n",
       "      <td>6</td>\n",
       "      <td>87089990</td>\n",
       "      <td>10</td>\n",
       "      <td>97</td>\n",
       "      <td>SP</td>\n",
       "      <td>7</td>\n",
       "      <td>147600</td>\n",
       "      <td>5960</td>\n",
       "      <td>5960</td>\n",
       "      <td>49740</td>\n",
       "    </tr>\n",
       "  </tbody>\n",
       "</table>\n",
       "</div>"
      ],
      "text/plain": [
       "   CO_ANO  CO_MES    CO_NCM  CO_UNID  CO_PAIS SG_UF_NCM  CO_VIA  CO_URF  \\\n",
       "0    2020       1  39211900       10      244        SP       4  817600   \n",
       "1    2020       3  48183000       10      573        SC       1  917800   \n",
       "2    2020       1  85364100       11      756        SP       1  817800   \n",
       "3    2020       7  69109000       11      586        SP       7  147800   \n",
       "4    2020       6  87089990       10       97        SP       7  147600   \n",
       "\n",
       "   QT_ESTAT  KG_LIQUIDO  VL_FOB  \n",
       "0         1           1       2  \n",
       "1         1           1      69  \n",
       "2       341          12    1668  \n",
       "3        13           8     686  \n",
       "4      5960        5960   49740  "
      ]
     },
     "execution_count": 72,
     "metadata": {},
     "output_type": "execute_result"
    }
   ],
   "source": [
    "df = pd.read_csv('EXP_2020.csv', sep=';', encoding='latin1')\n",
    "df.head()"
   ]
  },
  {
   "cell_type": "code",
   "execution_count": 73,
   "id": "fdbfa2aa-1821-47d3-98cf-8a5f7104cf4f",
   "metadata": {},
   "outputs": [],
   "source": [
    "df = df.rename(columns={\n",
    "    'CO_ANO': 'Ano',\n",
    "    'CO_MES': 'Mes',\n",
    "    'SG_UF_NCM': 'Estado',\n",
    "    'CO_NCM': 'Produto',\n",
    "    'QT_ESTAT': 'Quantidade'\n",
    "})"
   ]
  },
  {
   "cell_type": "code",
   "execution_count": 74,
   "id": "a5d6084e-323b-46a7-b0cb-5ec3dce78ae8",
   "metadata": {},
   "outputs": [
    {
     "data": {
      "text/html": [
       "<div>\n",
       "<style scoped>\n",
       "    .dataframe tbody tr th:only-of-type {\n",
       "        vertical-align: middle;\n",
       "    }\n",
       "\n",
       "    .dataframe tbody tr th {\n",
       "        vertical-align: top;\n",
       "    }\n",
       "\n",
       "    .dataframe thead th {\n",
       "        text-align: right;\n",
       "    }\n",
       "</style>\n",
       "<table border=\"1\" class=\"dataframe\">\n",
       "  <thead>\n",
       "    <tr style=\"text-align: right;\">\n",
       "      <th></th>\n",
       "      <th>Ano</th>\n",
       "      <th>Mes</th>\n",
       "      <th>Estado</th>\n",
       "      <th>Produto</th>\n",
       "      <th>Quantidade</th>\n",
       "    </tr>\n",
       "  </thead>\n",
       "  <tbody>\n",
       "    <tr>\n",
       "      <th>0</th>\n",
       "      <td>2020</td>\n",
       "      <td>1</td>\n",
       "      <td>SP</td>\n",
       "      <td>39211900</td>\n",
       "      <td>1</td>\n",
       "    </tr>\n",
       "    <tr>\n",
       "      <th>1</th>\n",
       "      <td>2020</td>\n",
       "      <td>3</td>\n",
       "      <td>SC</td>\n",
       "      <td>48183000</td>\n",
       "      <td>1</td>\n",
       "    </tr>\n",
       "    <tr>\n",
       "      <th>2</th>\n",
       "      <td>2020</td>\n",
       "      <td>1</td>\n",
       "      <td>SP</td>\n",
       "      <td>85364100</td>\n",
       "      <td>341</td>\n",
       "    </tr>\n",
       "    <tr>\n",
       "      <th>3</th>\n",
       "      <td>2020</td>\n",
       "      <td>7</td>\n",
       "      <td>SP</td>\n",
       "      <td>69109000</td>\n",
       "      <td>13</td>\n",
       "    </tr>\n",
       "    <tr>\n",
       "      <th>4</th>\n",
       "      <td>2020</td>\n",
       "      <td>6</td>\n",
       "      <td>SP</td>\n",
       "      <td>87089990</td>\n",
       "      <td>5960</td>\n",
       "    </tr>\n",
       "  </tbody>\n",
       "</table>\n",
       "</div>"
      ],
      "text/plain": [
       "    Ano  Mes Estado   Produto  Quantidade\n",
       "0  2020    1     SP  39211900           1\n",
       "1  2020    3     SC  48183000           1\n",
       "2  2020    1     SP  85364100         341\n",
       "3  2020    7     SP  69109000          13\n",
       "4  2020    6     SP  87089990        5960"
      ]
     },
     "execution_count": 74,
     "metadata": {},
     "output_type": "execute_result"
    }
   ],
   "source": [
    "df = df[['Ano', 'Mes', 'Estado', 'Produto', 'Quantidade']]\n",
    "df.head()"
   ]
  },
  {
   "cell_type": "code",
   "execution_count": 75,
   "id": "99dbca29-ed62-4ca3-bea4-00069a61c866",
   "metadata": {},
   "outputs": [],
   "source": [
    "colunas_esperadas = ['Ano', 'Mes', 'Estado', 'Produto', 'Quantidade']\n",
    "if not all(col in df.columns for col in colunas_esperadas):\n",
    "    raise ValueError(\"Colunas ausentes no arquivo!\")"
   ]
  },
  {
   "cell_type": "code",
   "execution_count": 76,
   "id": "3d2bdd68-b6d3-41c3-9594-3c1ae504afcf",
   "metadata": {},
   "outputs": [],
   "source": [
    "df = df.dropna(subset=['Ano', 'Mes', 'Estado', 'Produto', 'Quantidade'])"
   ]
  },
  {
   "cell_type": "code",
   "execution_count": null,
   "id": "7240ccc5-1022-41a0-9c0b-010299aec25f",
   "metadata": {},
   "outputs": [],
   "source": [
    "df.to_csv('dados tratados/exportacoes 2020.csv', index=False)"
   ]
  },
  {
   "cell_type": "code",
   "execution_count": null,
   "id": "d7501ace-b277-449f-828c-79d8f1af3ad2",
   "metadata": {},
   "outputs": [],
   "source": [
    "df = pd.read_csv('EXP_2021.csv', sep=';', encoding='latin1')\n",
    "df.head()"
   ]
  },
  {
   "cell_type": "code",
   "execution_count": null,
   "id": "f1f8d0a5-7769-4309-ab49-ddbd3b57f5ec",
   "metadata": {},
   "outputs": [],
   "source": [
    "df = df.rename(columns={\n",
    "    'CO_ANO': 'Ano',\n",
    "    'CO_MES': 'Mes',\n",
    "    'SG_UF_NCM': 'Estado',\n",
    "    'CO_NCM': 'Produto',\n",
    "    'QT_ESTAT': 'Quantidade'\n",
    "})"
   ]
  },
  {
   "cell_type": "code",
   "execution_count": null,
   "id": "eff2f861-b277-4c9f-8cac-21ac69eb8184",
   "metadata": {},
   "outputs": [],
   "source": [
    "df = df[['Ano', 'Mes', 'Estado', 'Produto', 'Quantidade']]\n",
    "df.head()"
   ]
  },
  {
   "cell_type": "code",
   "execution_count": null,
   "id": "c7cb989e-22b2-4edb-90b3-3cdfe0e2383f",
   "metadata": {},
   "outputs": [],
   "source": [
    "colunas_esperadas = ['Ano', 'Mes', 'Estado', 'Produto', 'Quantidade']\n",
    "if not all(col in df.columns for col in colunas_esperadas):\n",
    "    raise ValueError(\"Colunas ausentes no arquivo!\")"
   ]
  },
  {
   "cell_type": "code",
   "execution_count": null,
   "id": "448fcf33-5e39-4be6-85a8-acc860fedca5",
   "metadata": {},
   "outputs": [],
   "source": [
    "df = df.dropna(subset=['Ano', 'Mes', 'Estado', 'Produto', 'Quantidade'])"
   ]
  },
  {
   "cell_type": "code",
   "execution_count": null,
   "id": "d9332c93-021a-4753-98db-cd79a7734d7a",
   "metadata": {},
   "outputs": [],
   "source": [
    "df.to_csv('dados tratados/exportacoes 2021.csv', index=False)"
   ]
  },
  {
   "cell_type": "code",
   "execution_count": null,
   "id": "5f3bbbad-981c-4c0a-b4b9-0101c0810b72",
   "metadata": {},
   "outputs": [],
   "source": [
    "df = pd.read_csv('IMP_2020.csv', sep=';', encoding='latin1')\n",
    "df.head()"
   ]
  },
  {
   "cell_type": "code",
   "execution_count": null,
   "id": "6c997ddf-7848-4e2d-8f36-ccc1513493a7",
   "metadata": {},
   "outputs": [],
   "source": [
    "df = df.rename(columns={\n",
    "    'CO_ANO': 'Ano',\n",
    "    'CO_MES': 'Mes',\n",
    "    'SG_UF_NCM': 'Estado',\n",
    "    'CO_NCM': 'Produto',\n",
    "    'QT_ESTAT': 'Quantidade'\n",
    "})"
   ]
  },
  {
   "cell_type": "code",
   "execution_count": null,
   "id": "695347ce-9f41-48f0-897a-55d09b07ee94",
   "metadata": {},
   "outputs": [],
   "source": [
    "df = df[['Ano', 'Mes', 'Estado', 'Produto', 'Quantidade']]\n",
    "df.head()"
   ]
  },
  {
   "cell_type": "code",
   "execution_count": null,
   "id": "a77bd80b-71a2-4433-b605-434b15e37a33",
   "metadata": {},
   "outputs": [],
   "source": [
    "colunas_esperadas = ['Ano', 'Mes', 'Estado', 'Produto', 'Quantidade']\n",
    "if not all(col in df.columns for col in colunas_esperadas):\n",
    "    raise ValueError(\"Colunas ausentes no arquivo!\")"
   ]
  },
  {
   "cell_type": "code",
   "execution_count": null,
   "id": "17b416ca-261f-4f35-b103-6577ca3f5170",
   "metadata": {},
   "outputs": [],
   "source": [
    "df = df.dropna(subset=['Ano', 'Mes', 'Estado', 'Produto', 'Quantidade'])"
   ]
  },
  {
   "cell_type": "code",
   "execution_count": null,
   "id": "57946507-47a5-4e25-8f05-047b42cb7416",
   "metadata": {},
   "outputs": [],
   "source": [
    "df.to_csv('dados tratados/importacoes 2020.csv', index=False)"
   ]
  },
  {
   "cell_type": "code",
   "execution_count": null,
   "id": "9b75dda5-a01e-4a50-9c23-6589c94a288f",
   "metadata": {},
   "outputs": [],
   "source": [
    "df = pd.read_csv('IMP_2021.csv', sep=';', encoding='latin1')\n",
    "df.head()"
   ]
  },
  {
   "cell_type": "code",
   "execution_count": null,
   "id": "6f97b173-d89c-44b5-840b-b8c81b1519fc",
   "metadata": {},
   "outputs": [],
   "source": [
    "df = df.rename(columns={\n",
    "    'CO_ANO': 'Ano',\n",
    "    'CO_MES': 'Mes',\n",
    "    'SG_UF_NCM': 'Estado',\n",
    "    'CO_NCM': 'Produto',\n",
    "    'QT_ESTAT': 'Quantidade'\n",
    "})"
   ]
  },
  {
   "cell_type": "code",
   "execution_count": null,
   "id": "1a6ac359-7f92-4fac-a096-a3c8381e16d1",
   "metadata": {},
   "outputs": [],
   "source": [
    "df = df[['Ano', 'Mes', 'Estado', 'Produto', 'Quantidade']]\n",
    "df.head()"
   ]
  },
  {
   "cell_type": "code",
   "execution_count": null,
   "id": "cdd53324-6195-477b-b12f-36ae18d3cd38",
   "metadata": {},
   "outputs": [],
   "source": [
    "colunas_esperadas = ['Ano', 'Mes', 'Estado', 'Produto', 'Quantidade']\n",
    "if not all(col in df.columns for col in colunas_esperadas):\n",
    "    raise ValueError(\"Colunas ausentes no arquivo!\")"
   ]
  },
  {
   "cell_type": "code",
   "execution_count": null,
   "id": "92c24c01-7806-4f94-8c38-8acd68cd58f6",
   "metadata": {},
   "outputs": [],
   "source": [
    "df = df.dropna(subset=['Ano', 'Mes', 'Estado', 'Produto', 'Quantidade'])"
   ]
  },
  {
   "cell_type": "code",
   "execution_count": null,
   "id": "a690013a-d7d8-4dc5-a425-8bd623c6d53b",
   "metadata": {},
   "outputs": [],
   "source": [
    "df.to_csv('dados tratados/importacoes 2021.csv', index=False)"
   ]
  }
 ],
 "metadata": {
  "kernelspec": {
   "display_name": "Python [conda env:base] *",
   "language": "python",
   "name": "conda-base-py"
  },
  "language_info": {
   "codemirror_mode": {
    "name": "ipython",
    "version": 3
   },
   "file_extension": ".py",
   "mimetype": "text/x-python",
   "name": "python",
   "nbconvert_exporter": "python",
   "pygments_lexer": "ipython3",
   "version": "3.12.7"
  }
 },
 "nbformat": 4,
 "nbformat_minor": 5
}
